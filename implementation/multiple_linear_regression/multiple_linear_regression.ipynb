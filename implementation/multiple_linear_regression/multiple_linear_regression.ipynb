{
  "nbformat": 4,
  "nbformat_minor": 0,
  "metadata": {
    "colab": {
      "provenance": []
    },
    "kernelspec": {
      "name": "python3",
      "display_name": "Python 3"
    },
    "language_info": {
      "name": "python"
    }
  },
  "cells": [
    {
      "cell_type": "markdown",
      "source": [
        "# Prediction using a multiple linear regression model\n"
      ],
      "metadata": {
        "id": "qSXHYt8wuvFg"
      }
    },
    {
      "cell_type": "code",
      "execution_count": 47,
      "metadata": {
        "id": "4whaE-RSuja1"
      },
      "outputs": [],
      "source": [
        "import numpy as np\n",
        "import pandas as pd"
      ]
    },
    {
      "cell_type": "markdown",
      "source": [
        "# Import and split the dataset"
      ],
      "metadata": {
        "id": "mtyY4PwCvDl4"
      }
    },
    {
      "cell_type": "code",
      "source": [
        "dataset = pd.read_csv('train.csv')\n",
        "dataset.head()\n",
        "X = dataset.iloc[:, [0, 2, 6, 7]].values\n",
        "y = dataset.iloc[:, 1].values\n"
      ],
      "metadata": {
        "id": "UuIuGFjXvCFb"
      },
      "execution_count": 56,
      "outputs": []
    },
    {
      "cell_type": "markdown",
      "source": [
        "# Have a summary of the dataset"
      ],
      "metadata": {
        "id": "FMr5OxWjzQgJ"
      }
    },
    {
      "cell_type": "code",
      "source": [
        "dataset.info()"
      ],
      "metadata": {
        "colab": {
          "base_uri": "https://localhost:8080/"
        },
        "id": "dlEqNbBMzTfO",
        "outputId": "ebc0fffc-7dc6-4638-ce17-4d9e38765a29"
      },
      "execution_count": 57,
      "outputs": [
        {
          "output_type": "stream",
          "name": "stdout",
          "text": [
            "<class 'pandas.core.frame.DataFrame'>\n",
            "RangeIndex: 891 entries, 0 to 890\n",
            "Data columns (total 12 columns):\n",
            " #   Column       Non-Null Count  Dtype  \n",
            "---  ------       --------------  -----  \n",
            " 0   PassengerId  891 non-null    int64  \n",
            " 1   Survived     891 non-null    int64  \n",
            " 2   Pclass       891 non-null    int64  \n",
            " 3   Name         891 non-null    object \n",
            " 4   Sex          891 non-null    object \n",
            " 5   Age          714 non-null    float64\n",
            " 6   SibSp        891 non-null    int64  \n",
            " 7   Parch        891 non-null    int64  \n",
            " 8   Ticket       891 non-null    object \n",
            " 9   Fare         891 non-null    float64\n",
            " 10  Cabin        204 non-null    object \n",
            " 11  Embarked     889 non-null    object \n",
            "dtypes: float64(2), int64(5), object(5)\n",
            "memory usage: 83.7+ KB\n"
          ]
        }
      ]
    },
    {
      "cell_type": "markdown",
      "source": [
        "# Look for null values in the dataset\n"
      ],
      "metadata": {
        "id": "Ana3mCSTzdGT"
      }
    },
    {
      "cell_type": "code",
      "source": [
        "dataset.isnull().sum() # Here we can see that we have null values on many Age information from Passengers, there fore to base the prediction in the age would output a biased result"
      ],
      "metadata": {
        "colab": {
          "base_uri": "https://localhost:8080/"
        },
        "id": "sMxZ2Lf3zigE",
        "outputId": "69d69146-cb23-47f4-9250-bbac41054601"
      },
      "execution_count": 58,
      "outputs": [
        {
          "output_type": "execute_result",
          "data": {
            "text/plain": [
              "PassengerId      0\n",
              "Survived         0\n",
              "Pclass           0\n",
              "Name             0\n",
              "Sex              0\n",
              "Age            177\n",
              "SibSp            0\n",
              "Parch            0\n",
              "Ticket           0\n",
              "Fare             0\n",
              "Cabin          687\n",
              "Embarked         2\n",
              "dtype: int64"
            ]
          },
          "metadata": {},
          "execution_count": 58
        }
      ]
    },
    {
      "cell_type": "markdown",
      "source": [
        "# Splitting the dataset into the training and test set"
      ],
      "metadata": {
        "id": "gQPZVCjgx7qY"
      }
    },
    {
      "cell_type": "code",
      "source": [
        "testDataset = pd.read_csv('test.csv')\n",
        "testDataset.isnull().sum()\n",
        "X_test = testDataset.iloc[:, [0, 1, 5, 6]].values\n",
        "y_test = testDataset.iloc[:, 1].values\n",
        "print(X_test)"
      ],
      "metadata": {
        "colab": {
          "base_uri": "https://localhost:8080/"
        },
        "id": "clW1mdDevh0C",
        "outputId": "4f7e6f31-b58a-4a2c-9d5c-03dca377909a"
      },
      "execution_count": 59,
      "outputs": [
        {
          "output_type": "stream",
          "name": "stdout",
          "text": [
            "[[ 892    3    0    0]\n",
            " [ 893    3    1    0]\n",
            " [ 894    2    0    0]\n",
            " ...\n",
            " [1307    3    0    0]\n",
            " [1308    3    0    0]\n",
            " [1309    3    1    1]]\n"
          ]
        }
      ]
    },
    {
      "cell_type": "markdown",
      "source": [
        "# Training the multiple linear regression model on the training set"
      ],
      "metadata": {
        "id": "AMx1fe2ryT6t"
      }
    },
    {
      "cell_type": "code",
      "source": [
        "from sklearn.linear_model import LinearRegression\n",
        "regressor = LinearRegression()\n",
        "regressor.fit(X, y)"
      ],
      "metadata": {
        "colab": {
          "base_uri": "https://localhost:8080/"
        },
        "id": "fP5XhTtYySEo",
        "outputId": "18311dff-7e66-4fc9-8222-c5c7d011a9cb"
      },
      "execution_count": 60,
      "outputs": [
        {
          "output_type": "execute_result",
          "data": {
            "text/plain": [
              "LinearRegression()"
            ]
          },
          "metadata": {},
          "execution_count": 60
        }
      ]
    },
    {
      "cell_type": "markdown",
      "source": [
        "#Predictin the test set results"
      ],
      "metadata": {
        "id": "yp8teiGW0Ycn"
      }
    },
    {
      "cell_type": "code",
      "source": [
        "rawPredictions = regressor.predict(X_test)\n",
        "predictions = []\n",
        "for x in rawPredictions:\n",
        "  if x > 0.45: predictions.append(1)\n",
        "  else: predictions.append(0)\n",
        "\n",
        "deaths = predictions.count(0)\n",
        "output = pd.DataFrame({'PassengerId': X_test[:, 0], 'Survived': predictions})\n",
        "output.to_csv('submission5.csv', index=False)\n",
        "print('Submission saved with deaths/total', deaths, '/', len(X_test))\n"
      ],
      "metadata": {
        "colab": {
          "base_uri": "https://localhost:8080/"
        },
        "id": "_W9pWsjpytce",
        "outputId": "48e6294d-091e-4fb9-c846-97f0f74939e5"
      },
      "execution_count": 86,
      "outputs": [
        {
          "output_type": "stream",
          "name": "stdout",
          "text": [
            "Submission saved with deaths/total 291 / 418\n"
          ]
        }
      ]
    }
  ]
}